{
 "cells": [
  {
   "cell_type": "code",
   "execution_count": null,
   "metadata": {},
   "outputs": [],
   "source": [
    "from generator import Generator\n",
    "import pandas as pd\n",
    "data = pd.read_excel(\"HOSE_File3_2023_Field.xlsx\")\n",
    "data = data[data[\"TIME\"] >= 2007]\n",
    "data = data[data[\"TIME\"] <= 2022]\n",
    "data"
   ]
  },
  {
   "cell_type": "code",
   "execution_count": null,
   "metadata": {},
   "outputs": [],
   "source": [
    "vis = Generator(data,\n",
    "                generation_method=1,\n",
    "                 required_fields=[],\n",
    "                 multiple_cycles=False,\n",
    "                 investment_method=1,\n",
    "                 interest_rate=1.06,\n",
    "                 measurement_method=0,\n",
    "                 target=1.4,\n",
    "                 max_loop=7)"
   ]
  },
  {
   "cell_type": "code",
   "execution_count": 3,
   "metadata": {},
   "outputs": [],
   "source": [
    "vis.generate(\"Data_CT/\", 200, 10000)"
   ]
  }
 ],
 "metadata": {
  "kernelspec": {
   "display_name": "Python 3",
   "language": "python",
   "name": "python3"
  },
  "language_info": {
   "codemirror_mode": {
    "name": "ipython",
    "version": 3
   },
   "file_extension": ".py",
   "mimetype": "text/x-python",
   "name": "python",
   "nbconvert_exporter": "python",
   "pygments_lexer": "ipython3",
   "version": "3.10.9"
  },
  "orig_nbformat": 4
 },
 "nbformat": 4,
 "nbformat_minor": 2
}
